{
 "cells": [
  {
   "cell_type": "markdown",
   "metadata": {},
   "source": [
    "# Simulation and Real Data Analysis"
   ]
  },
  {
   "cell_type": "markdown",
   "metadata": {},
   "source": [
    "## Initialization"
   ]
  },
  {
   "cell_type": "code",
   "execution_count": 23,
   "metadata": {},
   "outputs": [],
   "source": [
    "import torch\n",
    "import numpy as np\n",
    "import sys\n",
    "sys.path.append(\"../..\")\n",
    "from utils import notears_nonlinear\n",
    "from Modules.StaticDAG.NotearsMLP import NotearsMLP\n",
    "import time\n"
   ]
  },
  {
   "cell_type": "markdown",
   "metadata": {},
   "source": [
    "## Simulation Study"
   ]
  },
  {
   "cell_type": "code",
   "execution_count": 24,
   "metadata": {},
   "outputs": [
    {
     "name": "stdout",
     "output_type": "stream",
     "text": [
      "{'fdr': 0.1, 'tpr': 1.0, 'fpr': 1.0, 'shd': 1, 'nnz': 10}\n"
     ]
    }
   ],
   "source": [
    "import utils as ut\n",
    "torch.set_default_dtype(torch.double)\n",
    "np.set_printoptions(precision=3)\n",
    "ut.set_random_seed(123)\n",
    "\n",
    "n, d, s0, graph_type, sem_type = 200, 5, 9, 'ER', 'mim'\n",
    "B_true = ut.simulate_dag(d, s0, graph_type)\n",
    "np.savetxt('simulation_results/nonlinear/W_true.csv', B_true, delimiter=',')\n",
    "\n",
    "X = ut.simulate_nonlinear_sem(B_true, n, sem_type)\n",
    "np.savetxt('simulation_results/nonlinear/X.csv', X, delimiter=',')\n",
    "\n",
    "model = NotearsMLP(dims=[d, 10, 1], bias=True)\n",
    "W_est = notears_nonlinear(model, X, lambda1=0.01, lambda2=0.01)\n",
    "assert ut.is_dag(W_est)\n",
    "np.savetxt('simulation_results/nonlinear/W_est.csv', W_est, delimiter=',')\n",
    "acc = ut.count_accuracy(B_true, W_est != 0)\n",
    "print(acc)\n"
   ]
  },
  {
   "cell_type": "markdown",
   "metadata": {},
   "source": [
    "## ADNI Analysis"
   ]
  },
  {
   "cell_type": "code",
   "execution_count": 3,
   "metadata": {},
   "outputs": [
    {
     "name": "stderr",
     "output_type": "stream",
     "text": [
      "/home/omnisky/anaconda3/envs/w/lib/python3.9/site-packages/scipy/linalg/_matfuncs.py:377: RuntimeWarning: overflow encountered in matmul\n",
      "  eAw = eAw @ eAw\n",
      "/home/omnisky/anaconda3/envs/w/lib/python3.9/site-packages/scipy/linalg/_matfuncs.py:377: RuntimeWarning: invalid value encountered in matmul\n",
      "  eAw = eAw @ eAw\n"
     ]
    }
   ],
   "source": [
    "# Run ADNI_Analysis as this is time consuming\n",
    "# cd Baselines\n",
    "# cd Notears\n",
    "\n",
    "\n",
    "from Modules.LoadData.load_data_ADNI import get_dataloader\n",
    "import tqdm\n",
    "torch.set_default_dtype(torch.float)\n",
    "dataloader = get_dataloader(batch_size = 1)\n",
    "model = NotearsMLP(dims=[90, 50, 1], bias=True)\n",
    "start_time = time.time()\n",
    "for data, id, group in tqdm(dataloader):\n",
    "    causality = notears_nonlinear(model, data.numpy(), lambda1=0.01, lambda2=0.01)\n",
    "    out = np.array(causality.cpu())\n",
    "    folder = \"ECNs/\" + id[0] + \"_\" + group[0] + \".npy\"\n",
    "    np.save(folder, out)\n",
    "end_time = time.time()\n",
    "print(f\"time:{end_time - start_time}seconds\")"
   ]
  },
  {
   "cell_type": "code",
   "execution_count": 22,
   "metadata": {},
   "outputs": [
    {
     "data": {
      "image/png": "[encoded data removed]",
      "text/plain": [
       "<Figure size 432x288 with 2 Axes>"
      ]
     },
     "metadata": {
      "needs_background": "light"
     },
     "output_type": "display_data"
    }
   ],
   "source": [
    "import seaborn as sns\n",
    "from matplotlib import pyplot as plt\n",
    "fig = plt.figure()\n",
    "sns.heatmap(W_est, vmax=0.02, cmap='GnBu_r', xticklabels=False, yticklabels=False)\n",
    "plt.show()"
   ]
  }
 ],
 "metadata": {
  "kernelspec": {
   "display_name": "w",
   "language": "python",
   "name": "python3"
  },
  "language_info": {
   "codemirror_mode": {
    "name": "ipython",
    "version": 3
   },
   "file_extension": ".py",
   "mimetype": "text/x-python",
   "name": "python",
   "nbconvert_exporter": "python",
   "pygments_lexer": "ipython3",
   "version": "3.9.7"
  }
 },
 "nbformat": 4,
 "nbformat_minor": 2
}

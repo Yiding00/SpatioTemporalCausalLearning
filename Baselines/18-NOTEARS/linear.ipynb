{
 "cells": [
  {
   "cell_type": "markdown",
   "metadata": {},
   "source": [
    "# Simulation Study"
   ]
  },
  {
   "cell_type": "code",
   "execution_count": 1,
   "metadata": {},
   "outputs": [
    {
     "name": "stdout",
     "output_type": "stream",
     "text": [
      "{'fdr': 0.0, 'tpr': 1.0, 'fpr': 0.0, 'shd': 0, 'nnz': 10}\n"
     ]
    }
   ],
   "source": [
    "import numpy as np\n",
    "from utils import notears_linear\n",
    "import utils\n",
    "\n",
    "utils.set_random_seed(1)\n",
    "\n",
    "n, d, s0, graph_type, sem_type = 1000, 10, 10, 'ER', 'gauss'\n",
    "B_true = utils.simulate_dag(d, s0, graph_type)\n",
    "W_true = utils.simulate_parameter(B_true)\n",
    "np.savetxt('simulation_results/linear/W_true.csv', W_true, delimiter=',')\n",
    "\n",
    "X = utils.simulate_linear_sem(W_true, n, sem_type)\n",
    "np.savetxt('simulation_results/linear/X.csv', X, delimiter=',')\n",
    "\n",
    "W_est = notears_linear(X, lambda1=0.1, loss_type='l2')\n",
    "assert utils.is_dag(W_est)\n",
    "np.savetxt('simulation_results/linear/W_est.csv', W_est, delimiter=',')\n",
    "acc = utils.count_accuracy(B_true, W_est != 0)\n",
    "print(acc)\n"
   ]
  }
 ],
 "metadata": {
  "kernelspec": {
   "display_name": "w",
   "language": "python",
   "name": "python3"
  },
  "language_info": {
   "codemirror_mode": {
    "name": "ipython",
    "version": 3
   },
   "file_extension": ".py",
   "mimetype": "text/x-python",
   "name": "python",
   "nbconvert_exporter": "python",
   "pygments_lexer": "ipython3",
   "version": "3.9.7"
  }
 },
 "nbformat": 4,
 "nbformat_minor": 2
}

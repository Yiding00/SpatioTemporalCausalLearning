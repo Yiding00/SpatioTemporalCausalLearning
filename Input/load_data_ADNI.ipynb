{
 "cells": [
  {
   "cell_type": "code",
   "execution_count": 1,
   "metadata": {},
   "outputs": [],
   "source": [
    "import sys\n",
    "currentPath = \"/home/omnisky/Public/WangYiding/coauther/2023-3-reverse\"\n",
    "sys.path.append(currentPath)\n",
    "import pandas as pd \n",
    "# df = pd.read_csv(\"ADNI-adhd/CN/I824984.txt\", sep='\\s+', header=None)\n",
    "# df\n"
   ]
  },
  {
   "cell_type": "code",
   "execution_count": 2,
   "metadata": {},
   "outputs": [],
   "source": [
    "from utils import MyDataset_ADNI\n",
    "from torch.utils.data import DataLoader\n",
    "data_list = []\n",
    "id_list = []\n",
    "group_list = []\n",
    "import pandas as pd \n",
    "import numpy as np\n",
    "df = pd.read_csv(\"ADNI-adhd/label.csv\")\n",
    "# id, group, sex, age, visit\n",
    "# group: CN, EMCI, LMCI, MCI, SMC\n",
    "# sex: F, M\n",
    "for row in df.itertuples():\n",
    "    folder = \"ADNI-adhd/\" + row.group + \"/\" + row.id + \".txt\"\n",
    "    row_data = pd.read_csv(folder, sep='\\s+', header=None).values\n",
    "    data_list.append(row_data)\n",
    "    id_list.append(row.id)\n",
    "    group_list.append(row.group)\n",
    "    # if row_data.shape !=(187,90):\n",
    "    #     print(row.id)\n",
    "    # print(row_data.shape)\n",
    "dataset = MyDataset_ADNI(data_list, id_list, group_list)\n",
    "dataloader = DataLoader(dataset, batch_size=16)"
   ]
  },
  {
   "cell_type": "code",
   "execution_count": 3,
   "metadata": {},
   "outputs": [
    {
     "name": "stdout",
     "output_type": "stream",
     "text": [
      "torch.Size([16, 187, 90])\n",
      "torch.Size([16, 187, 90])\n",
      "torch.Size([16, 187, 90])\n",
      "torch.Size([16, 187, 90])\n",
      "torch.Size([16, 187, 90])\n",
      "torch.Size([16, 187, 90])\n",
      "torch.Size([16, 187, 90])\n",
      "torch.Size([16, 187, 90])\n",
      "torch.Size([16, 187, 90])\n",
      "torch.Size([16, 187, 90])\n",
      "torch.Size([16, 187, 90])\n",
      "torch.Size([16, 187, 90])\n",
      "torch.Size([16, 187, 90])\n",
      "torch.Size([16, 187, 90])\n",
      "torch.Size([16, 187, 90])\n",
      "torch.Size([16, 187, 90])\n",
      "torch.Size([16, 187, 90])\n",
      "torch.Size([16, 187, 90])\n",
      "torch.Size([16, 187, 90])\n",
      "torch.Size([13, 187, 90])\n"
     ]
    }
   ],
   "source": [
    "for data, id, group in dataloader:\n",
    "    print(data.shape)"
   ]
  }
 ],
 "metadata": {
  "kernelspec": {
   "display_name": "base",
   "language": "python",
   "name": "python3"
  },
  "language_info": {
   "codemirror_mode": {
    "name": "ipython",
    "version": 3
   },
   "file_extension": ".py",
   "mimetype": "text/x-python",
   "name": "python",
   "nbconvert_exporter": "python",
   "pygments_lexer": "ipython3",
   "version": "3.9.7"
  },
  "orig_nbformat": 4
 },
 "nbformat": 4,
 "nbformat_minor": 2
}

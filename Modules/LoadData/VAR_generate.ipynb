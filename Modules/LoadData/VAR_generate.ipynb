{
 "cells": [
  {
   "cell_type": "code",
   "execution_count": 25,
   "metadata": {},
   "outputs": [
    {
     "name": "stdout",
     "output_type": "stream",
     "text": [
      "(991, 10, 20)\n",
      "torch.Size([128, 10, 20])\n",
      "torch.Size([128, 10, 20])\n",
      "torch.Size([128, 10, 20])\n",
      "torch.Size([128, 10, 20])\n",
      "torch.Size([128, 10, 20])\n",
      "torch.Size([128, 10, 20])\n",
      "torch.Size([128, 10, 20])\n",
      "torch.Size([95, 10, 20])\n"
     ]
    }
   ],
   "source": [
    "from utils import simulate_var, time_split\n",
    "import numpy as np\n",
    "from torch.utils.data import DataLoader\n",
    "num_nodes = 20\n",
    "time_length = 1000\n",
    "lag = 1\n",
    "X_np, beta, GC = simulate_var(p=num_nodes, T=time_length, lag=lag, sparsity=0.2, seed=42)\n",
    "X_np_ori = X_np\n",
    "X_np = X_np.transpose(1, 0)\n",
    "X_np = X_np[:, :, np.newaxis]\n",
    "X_np = np.array(time_split(X_np))\n",
    "X_np = X_np.transpose(0,2,1,3).squeeze(3)\n",
    "print(X_np.shape)\n",
    "np.save(\"../../../data/VAR/VAR_node\"+str(num_nodes)+\"_lag\"+str(lag)+\".npy\", X_np)\n",
    "data_loader = DataLoader(X_np, batch_size=128, shuffle=True)\n",
    "\n",
    "for a in data_loader:\n",
    "    print(a.shape)"
   ]
  }
 ],
 "metadata": {
  "kernelspec": {
   "display_name": "base",
   "language": "python",
   "name": "python3"
  },
  "language_info": {
   "codemirror_mode": {
    "name": "ipython",
    "version": 3
   },
   "file_extension": ".py",
   "mimetype": "text/x-python",
   "name": "python",
   "nbconvert_exporter": "python",
   "pygments_lexer": "ipython3",
   "version": "3.9.7"
  }
 },
 "nbformat": 4,
 "nbformat_minor": 2
}

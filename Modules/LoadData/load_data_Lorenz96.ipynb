{
 "cells": [
  {
   "cell_type": "code",
   "execution_count": 2,
   "metadata": {},
   "outputs": [],
   "source": [
    "from utils import MyDataset\n",
    "from torch.utils.data import DataLoader\n",
    "data_list = []\n",
    "id_list = []\n",
    "group_list = []\n",
    "import pandas as pd \n",
    "import numpy as np\n",
    "num_nodes = 20\n",
    "F = 20\n",
    "dir = \"../../../data/Lorenz96/Lorenz96_node\"+str(num_nodes)+\"_F\"+str(F)+\".npy\"\n",
    "X = np.load(dir)\n",
    "id_list = group_list = X\n",
    "\n",
    "dataset = MyDataset(X, id_list, group_list)\n",
    "dataloader = DataLoader(dataset, batch_size=128, shuffle=True)"
   ]
  },
  {
   "cell_type": "code",
   "execution_count": 3,
   "metadata": {},
   "outputs": [
    {
     "name": "stdout",
     "output_type": "stream",
     "text": [
      "torch.Size([128, 10, 20])\n",
      "torch.Size([128, 10, 20])\n",
      "torch.Size([128, 10, 20])\n",
      "torch.Size([128, 10, 20])\n",
      "torch.Size([128, 10, 20])\n",
      "torch.Size([128, 10, 20])\n",
      "torch.Size([128, 10, 20])\n",
      "torch.Size([95, 10, 20])\n"
     ]
    }
   ],
   "source": [
    "for data, id, group in dataloader:\n",
    "    print(data.shape)"
   ]
  }
 ],
 "metadata": {
  "kernelspec": {
   "display_name": "base",
   "language": "python",
   "name": "python3"
  },
  "language_info": {
   "codemirror_mode": {
    "name": "ipython",
    "version": 3
   },
   "file_extension": ".py",
   "mimetype": "text/x-python",
   "name": "python",
   "nbconvert_exporter": "python",
   "pygments_lexer": "ipython3",
   "version": "3.9.7"
  }
 },
 "nbformat": 4,
 "nbformat_minor": 2
}

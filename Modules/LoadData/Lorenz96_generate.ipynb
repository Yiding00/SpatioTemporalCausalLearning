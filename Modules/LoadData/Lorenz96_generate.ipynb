{
 "cells": [
  {
   "cell_type": "code",
   "execution_count": 8,
   "metadata": {},
   "outputs": [
    {
     "name": "stdout",
     "output_type": "stream",
     "text": [
      "(991, 10, 30)\n",
      "torch.Size([128, 10, 30])\n",
      "torch.Size([128, 10, 30])\n",
      "torch.Size([128, 10, 30])\n",
      "torch.Size([128, 10, 30])\n",
      "torch.Size([128, 10, 30])\n",
      "torch.Size([128, 10, 30])\n",
      "torch.Size([128, 10, 30])\n",
      "torch.Size([95, 10, 30])\n"
     ]
    }
   ],
   "source": [
    "from utils import simulate_lorenz_96, time_split\n",
    "import numpy as np\n",
    "from torch.utils.data import DataLoader\n",
    "num_nodes = 30\n",
    "time_length = 1000\n",
    "F = 10\n",
    "X_np, GC = simulate_lorenz_96(p=num_nodes, F=F, T=time_length, seed=42)\n",
    "X_np_ori = X_np\n",
    "X_np = X_np.transpose(1,0)\n",
    "X_np = X_np[:,:,np.newaxis]\n",
    "X_np = np.array(time_split(X_np, step=10))\n",
    "\n",
    "X_np = X_np.transpose(0,2,1,3).squeeze(3)\n",
    "print(X_np.shape)\n",
    "np.save(\"../../../data/Lorenz96/Lorenz96_node\"+str(num_nodes)+\"_F\"+str(F)+\".npy\", X_np)\n",
    "data_loader = DataLoader(X_np, batch_size=128, shuffle=True)\n",
    "\n",
    "for a in data_loader:\n",
    "    print(a.shape)"
   ]
  }
 ],
 "metadata": {
  "kernelspec": {
   "display_name": "base",
   "language": "python",
   "name": "python3"
  },
  "language_info": {
   "codemirror_mode": {
    "name": "ipython",
    "version": 3
   },
   "file_extension": ".py",
   "mimetype": "text/x-python",
   "name": "python",
   "nbconvert_exporter": "python",
   "pygments_lexer": "ipython3",
   "version": "3.9.7"
  }
 },
 "nbformat": 4,
 "nbformat_minor": 2
}

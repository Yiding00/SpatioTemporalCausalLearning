{
 "cells": [
  {
   "cell_type": "code",
   "execution_count": 12,
   "metadata": {},
   "outputs": [],
   "source": [
    "from utils import MyDataset\n",
    "from torch.utils.data import DataLoader\n",
    "data_list = []\n",
    "id_list = []\n",
    "group_list = []\n",
    "import pandas as pd \n",
    "dir = \"../../../data/IRMA/\"\n",
    "exp_num = {\n",
    "    \"on\": 8,\n",
    "    \"off\": 10,\n",
    "}\n",
    "for i in [\"on\",\"off\"]:\n",
    "    for j in range(1,exp_num[i]+1):\n",
    "        folder = dir+\"IRMA_all/Switch_\"+i+\"_\"+str(j)+\".txt\"\n",
    "        row_data = pd.read_csv(folder, sep='\\s+').values\n",
    "        data_list.append(row_data)\n",
    "        id_list.append(i+\"_\"+str(j))\n",
    "        group_list.append(i)\n",
    "\n",
    "dataset = MyDataset(data_list, id_list, group_list)\n",
    "dataloader = DataLoader(dataset, batch_size=8, shuffle=True)"
   ]
  },
  {
   "cell_type": "code",
   "execution_count": 13,
   "metadata": {},
   "outputs": [
    {
     "name": "stdout",
     "output_type": "stream",
     "text": [
      "torch.Size([8, 9, 5])\n",
      "('off_2', 'off_6', 'on_8', 'off_5', 'off_7', 'on_1', 'on_4', 'on_7')\n",
      "('off', 'off', 'on', 'off', 'off', 'on', 'on', 'on')\n",
      "torch.Size([8, 9, 5])\n",
      "('on_6', 'off_8', 'off_4', 'on_3', 'off_3', 'off_9', 'off_1', 'off_10')\n",
      "('on', 'off', 'off', 'on', 'off', 'off', 'off', 'off')\n",
      "torch.Size([2, 9, 5])\n",
      "('on_5', 'on_2')\n",
      "('on', 'on')\n"
     ]
    }
   ],
   "source": [
    "for data, id, group in dataloader:\n",
    "    print(data.shape)\n",
    "    print(id)\n",
    "    print(group)"
   ]
  }
 ],
 "metadata": {
  "kernelspec": {
   "display_name": "base",
   "language": "python",
   "name": "python3"
  },
  "language_info": {
   "codemirror_mode": {
    "name": "ipython",
    "version": 3
   },
   "file_extension": ".py",
   "mimetype": "text/x-python",
   "name": "python",
   "nbconvert_exporter": "python",
   "pygments_lexer": "ipython3",
   "version": "3.9.7"
  }
 },
 "nbformat": 4,
 "nbformat_minor": 2
}

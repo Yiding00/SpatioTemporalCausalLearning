{
 "cells": [
  {
   "cell_type": "code",
   "execution_count": 1,
   "metadata": {},
   "outputs": [
    {
     "name": "stdout",
     "output_type": "stream",
     "text": [
      "    SWI5   CBF1   GAL4  GAL80   ASH1\n",
      "0  20.87  19.83  21.14  19.13  17.97\n"
     ]
    }
   ],
   "source": [
    "import pandas as pd\n",
    "dir = \"../../../data/IRMA/\"\n",
    "df = pd.read_csv(dir+\"IRMA_Switch-off/Switch-off_1.txt\",sep=\"\\t\")\n",
    "print(df[:1])"
   ]
  },
  {
   "cell_type": "code",
   "execution_count": 14,
   "metadata": {},
   "outputs": [],
   "source": [
    "exp_num = {\n",
    "    \"on\": 5,\n",
    "    \"off\": 4,\n",
    "}\n",
    "\n",
    "for i in [\"on\",\"off\"]:\n",
    "    num = 1\n",
    "    for j in range(1,exp_num[i]+1):\n",
    "        df = pd.read_csv(dir+\"IRMA_Switch-\"+i+\"/Switch-\"+i+\"_\"+str(j)+\".txt\",sep=\"\\t\")\n",
    "        if df.shape[0]==9:\n",
    "            df.to_csv(dir+\"IRMA_all/Switch_\"+i+\"_\"+str(num)+\".txt\", sep='\\t', index=False)\n",
    "            num=num+1\n",
    "        elif df.shape[0]<=18:\n",
    "            df[:9].to_csv(dir+\"IRMA_all/Switch_\"+i+\"_\"+str(num)+\".txt\", sep='\\t', index=False)\n",
    "            num=num+1\n",
    "            df[-9:].to_csv(dir+\"IRMA_all/Switch_\"+i+\"_\"+str(num)+\".txt\", sep='\\t', index=False)\n",
    "            num=num+1\n",
    "        else:\n",
    "            df[:9].to_csv(dir+\"IRMA_all/Switch_\"+i+\"_\"+str(num)+\".txt\", sep='\\t', index=False)\n",
    "            num=num+1\n",
    "            df[9:18].to_csv(dir+\"IRMA_all/Switch_\"+i+\"_\"+str(num)+\".txt\", sep='\\t', index=False)\n",
    "            num=num+1\n",
    "            df[-9:].to_csv(dir+\"IRMA_all/Switch_\"+i+\"_\"+str(num)+\".txt\", sep='\\t', index=False)\n",
    "            num=num+1\n",
    "        # df.to_csv(dir+\"IRMA_all/Switch_\"+i+\"_\"+str(num)+\".txt\", sep='\\t', index=False)"
   ]
  },
  {
   "cell_type": "code",
   "execution_count": 2,
   "metadata": {},
   "outputs": [],
   "source": [
    "import numpy as np\n",
    "causality = np.array([\n",
    "    [0,1,0,1,1], \n",
    "    [0,0,1,0,0], \n",
    "    [1,0,0,0,0], \n",
    "    [0,0,0,0,0], \n",
    "    [0,1,0,0,0]\n",
    "    ])\n",
    "np.save(dir+\"causality.npy\", causality)"
   ]
  }
 ],
 "metadata": {
  "kernelspec": {
   "display_name": "base",
   "language": "python",
   "name": "python3"
  },
  "language_info": {
   "codemirror_mode": {
    "name": "ipython",
    "version": 3
   },
   "file_extension": ".py",
   "mimetype": "text/x-python",
   "name": "python",
   "nbconvert_exporter": "python",
   "pygments_lexer": "ipython3",
   "version": "3.9.7"
  }
 },
 "nbformat": 4,
 "nbformat_minor": 2
}

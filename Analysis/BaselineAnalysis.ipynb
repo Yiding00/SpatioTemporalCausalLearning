{
 "cells": [
  {
   "cell_type": "code",
   "execution_count": 7,
   "metadata": {},
   "outputs": [
    {
     "name": "stdout",
     "output_type": "stream",
     "text": [
      "Baseline Set:  ['NOTEARS', 'DAGGNN']\n",
      "Target Baseline:  NOTEARS\n"
     ]
    }
   ],
   "source": [
    "import os\n",
    "import sys\n",
    "sys.path.append(\"..\")\n",
    "BaselineSet = os.listdir('../Baselines/')\n",
    "print(\"Baseline Set: \", BaselineSet)\n",
    "TargetBaseline = BaselineSet[0]\n",
    "print(\"Target Baseline: \", TargetBaseline)\n",
    "\n",
    "TargetDir = \"../Baselines/\" + TargetBaseline + \"/ECNs_results/\""
   ]
  },
  {
   "cell_type": "code",
   "execution_count": 8,
   "metadata": {},
   "outputs": [],
   "source": [
    "from Modules.LoadData.load_data_ADNI import get_dataloader\n",
    "import numpy as np\n",
    "from utils import invert_dict\n",
    "CausalityList = []\n",
    "LabelList = []\n",
    "switcher = {\n",
    "    \"CN\": 1,\n",
    "    \"LMCI\": 2,\n",
    "    \"EMCI\": 3,\n",
    "    \"MCI\": 4,\n",
    "    \"SMC\": 5\n",
    "}\n",
    "reverse_switcher = invert_dict(switcher)\n",
    "groups = [2,3]\n",
    "dataloader = get_dataloader(batch_size = 1,parent=2)\n",
    "for data, id, group in dataloader:\n",
    "    if switcher[group[0]] in groups:\n",
    "        file = TargetDir + id[0] + \"_\" + group[0] + \".npy\"\n",
    "        causality = np.load(file)\n",
    "        CausalityList.append(causality)\n",
    "        LabelList.append(switcher[group[0]])\n",
    "\n",
    "CausalityAll = np.array(CausalityList)\n",
    "LabelAll = np.array(LabelList)"
   ]
  },
  {
   "cell_type": "code",
   "execution_count": 9,
   "metadata": {},
   "outputs": [
    {
     "name": "stdout",
     "output_type": "stream",
     "text": [
      "Baseline:  NOTEARS\n",
      "Groups:  {'LMCI', 'EMCI'}\n",
      "Test Scores:  [0.75 0.85 0.8  0.8  0.8 ] \n",
      "-- Mean: 0.8   Var: 0.031622776601683784\n",
      "-- 95% confidence interval: 0.8 ± 0.06198064213930022\n"
     ]
    }
   ],
   "source": [
    "from sklearn import svm\n",
    "import numpy as np\n",
    "from sklearn.model_selection import cross_validate\n",
    "CausalityAll_flatten = CausalityAll.reshape((CausalityAll.shape[0],-1))\n",
    "model = svm.SVC(kernel='linear')\n",
    "cv_results = cross_validate(model, CausalityAll_flatten, LabelAll, cv=5, return_train_score=True)\n",
    "# print(cv_results)\n",
    "print(\"Baseline: \", TargetBaseline)\n",
    "print(\"Groups: \", {reverse_switcher[group] for group in groups})\n",
    "print(\"Test Scores: \", cv_results[\"test_score\"], \"\\n-- Mean:\", np.mean(cv_results[\"test_score\"]), \"  Var:\", np.std(cv_results[\"test_score\"]))\n",
    "print(\"-- 95% confidence interval:\", np.mean(cv_results[\"test_score\"]),\"±\", 1.96*np.std(cv_results[\"test_score\"]))\n"
   ]
  }
 ],
 "metadata": {
  "kernelspec": {
   "display_name": "w",
   "language": "python",
   "name": "python3"
  },
  "language_info": {
   "codemirror_mode": {
    "name": "ipython",
    "version": 3
   },
   "file_extension": ".py",
   "mimetype": "text/x-python",
   "name": "python",
   "nbconvert_exporter": "python",
   "pygments_lexer": "ipython3",
   "version": "3.9.7"
  }
 },
 "nbformat": 4,
 "nbformat_minor": 2
}

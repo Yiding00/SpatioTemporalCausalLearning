{
 "cells": [
  {
   "cell_type": "code",
   "execution_count": 11,
   "metadata": {},
   "outputs": [],
   "source": [
    "import sys\n",
    "import os\n",
    "sys.path.append(\"..\")\n",
    "import numpy as np\n",
    "from sklearn.model_selection import cross_validate\n",
    "from utils import invert_dict\n",
    "from Modules.LoadData.load_data_ADNI import get_dataloader\n",
    "BaselineSet = os.listdir('../Baselines/')\n",
    "TargetBaseline = BaselineSet[0]\n",
    "TargetDir = \"../Baselines/\" + TargetBaseline + \"/ECNs_results/\"\n",
    "switcher = {\n",
    "    \"CN\": 1,\n",
    "    \"LMCI\": 2,\n",
    "    \"EMCI\": 3,\n",
    "    \"MCI\": 4,\n",
    "    \"SMC\": 5\n",
    "}\n",
    "reverse_switcher = invert_dict(switcher)"
   ]
  },
  {
   "cell_type": "code",
   "execution_count": 12,
   "metadata": {},
   "outputs": [],
   "source": [
    "from sklearn import svm\n",
    "import pandas as pd\n",
    "model = svm.SVC(kernel='linear')\n",
    "\n",
    "rows, cols = 6, 6\n",
    "matrix = [[\" \"] * cols for _ in range(rows)]\n",
    "\n",
    "for i in range(1,6):\n",
    "    matrix[i][0] = reverse_switcher[i]\n",
    "    matrix[0][i] = reverse_switcher[i]\n",
    "    for j in range(1,6):\n",
    "        if i>j:\n",
    "            CausalityList = []\n",
    "            LabelList = []\n",
    "            groups = [i,j]\n",
    "            dataloader = get_dataloader(batch_size = 1,parent=2)\n",
    "            for data, id, group in dataloader:\n",
    "                if switcher[group[0]] in groups:\n",
    "                    file = TargetDir + id[0] + \"_\" + group[0] + \".npy\"\n",
    "                    causality = np.load(file)\n",
    "                    CausalityList.append(causality)\n",
    "                    LabelList.append(switcher[group[0]])\n",
    "\n",
    "            CausalityAll = np.array(CausalityList)\n",
    "            LabelAll = np.array(LabelList)\n",
    "            CausalityAll_flatten = CausalityAll.reshape((CausalityAll.shape[0],-1))\n",
    "            cv_results = cross_validate(model, CausalityAll_flatten, LabelAll, cv=5, return_train_score=True)\n",
    "            # print(cv_results)\n",
    "            # print(\"Baseline: \", TargetBaseline)\n",
    "            # print(\"Groups: \", {reverse_switcher[group] for group in groups})\n",
    "            # print(\"Test Scores: \", cv_results[\"test_score\"], \"\\n-- Mean:\", np.mean(cv_results[\"test_score\"]), \"  Var:\", np.std(cv_results[\"test_score\"]))\n",
    "            # print(\"-- 95% confidence interval:\", np.mean(cv_results[\"test_score\"]),\"±\", 1.96*np.std(cv_results[\"test_score\"]))\n",
    "            matrix[i][j] = str(\"{:.4f}\".format(np.mean(cv_results[\"test_score\"])))+str(\"±\")+ str(\"{:.4f}\".format(1.96*np.std(cv_results[\"test_score\"])))\n",
    "\n",
    "df = pd.DataFrame(matrix)\n",
    "df.to_excel(TargetDir + 'SVM_5sv_output.xlsx', index=False, header=False)"
   ]
  }
 ],
 "metadata": {
  "kernelspec": {
   "display_name": "w",
   "language": "python",
   "name": "python3"
  },
  "language_info": {
   "codemirror_mode": {
    "name": "ipython",
    "version": 3
   },
   "file_extension": ".py",
   "mimetype": "text/x-python",
   "name": "python",
   "nbconvert_exporter": "python",
   "pygments_lexer": "ipython3",
   "version": "3.9.7"
  }
 },
 "nbformat": 4,
 "nbformat_minor": 2
}

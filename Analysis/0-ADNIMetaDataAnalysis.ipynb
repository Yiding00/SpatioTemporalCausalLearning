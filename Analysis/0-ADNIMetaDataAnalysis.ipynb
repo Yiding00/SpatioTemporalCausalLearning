{
 "cells": [
  {
   "cell_type": "code",
   "execution_count": 2,
   "metadata": {},
   "outputs": [
    {
     "name": "stdout",
     "output_type": "stream",
     "text": [
      "           count       mean       std   min    25%   50%    75%   max\n",
      "group sex                                                            \n",
      "CN    F     52.0  74.115385  8.601536  56.0  68.50  73.5  81.00  93.0\n",
      "      M     35.0  79.057143  7.673265  59.0  76.00  80.0  83.50  95.0\n",
      "EMCI  F     31.0  75.193548  8.930918  63.0  69.00  73.0  79.50  92.0\n",
      "      M     46.0  75.347826  5.770490  66.0  70.25  76.0  80.00  86.0\n",
      "LMCI  F     14.0  70.142857  6.538138  61.0  66.00  70.0  73.75  82.0\n",
      "      M      9.0  78.444444  5.918427  68.0  73.00  81.0  83.00  85.0\n",
      "MCI   F     46.0  73.391304  9.415067  56.0  69.00  74.0  78.75  96.0\n",
      "      M     42.0  75.452381  7.555332  59.0  71.25  75.0  80.00  92.0\n",
      "SMC   F     22.0  74.000000  5.520524  63.0  71.00  74.0  77.00  84.0\n",
      "      M     20.0  76.150000  4.344082  71.0  73.00  74.5  78.00  87.0\n",
      "       count       mean       std   min    25%   50%    75%   max\n",
      "group                                                            \n",
      "CN      87.0  76.103448  8.549493  56.0  70.00  76.0  82.50  95.0\n",
      "EMCI    77.0  75.285714  7.155890  63.0  70.00  75.0  80.00  92.0\n",
      "LMCI    23.0  73.391304  7.426850  61.0  67.50  73.0  81.00  85.0\n",
      "MCI     88.0  74.375000  8.592047  56.0  69.75  74.5  79.25  96.0\n",
      "SMC     42.0  75.023810  5.053316  63.0  72.00  74.0  77.75  87.0\n"
     ]
    }
   ],
   "source": [
    "import pandas as pd\n",
    "data_list = []\n",
    "id_list = []\n",
    "group_list = []\n",
    "dir = \"../\"*2+\"data/ADNI/\"\n",
    "\n",
    "df = pd.read_csv(dir +\"label.csv\")\n",
    "# id, group, sex, age, visit\n",
    "# group: CN, EMCI, LMCI, MCI, SMC\n",
    "# sex: F, M\n",
    "# for row in df.itertuples():\n",
    "#     print(row)\n",
    "grouped1 = df.groupby(['group','sex'])['age'].describe()\n",
    "grouped2 = df.groupby(['group'])['age'].describe()\n",
    "print(grouped1)\n",
    "print(grouped2)"
   ]
  },
  {
   "cell_type": "code",
   "execution_count": 8,
   "metadata": {},
   "outputs": [
    {
     "name": "stdout",
     "output_type": "stream",
     "text": [
      "    Unnamed: 0      name  x.mni  y.mni  z.mni      lobe hemi  index\n",
      "0            1   PreCG.L -38.65  -5.68  50.94   Frontal    L      1\n",
      "1            2   PreCG.R  41.37  -8.21  52.09   Frontal    R      2\n",
      "2            3  SFGdor.L -18.45  34.81  42.20   Frontal    L      3\n",
      "3            4  SFGdor.R  21.90  31.12  43.82   Frontal    R      4\n",
      "4            5  ORBsup.L -16.56  47.32 -13.31   Frontal    L      5\n",
      "..         ...       ...    ...    ...    ...       ...  ...    ...\n",
      "85          86     MTG.R  57.47 -37.23  -1.47  Temporal    R     86\n",
      "86          87  TPOmid.L -36.32  14.59 -34.08  Temporal    L     87\n",
      "87          88  TPOmid.R  44.22  14.55 -32.23  Temporal    R     88\n",
      "88          89     ITG.L -49.77 -28.05 -23.17  Temporal    L     89\n",
      "89          90     ITG.R  53.69 -31.07 -22.32  Temporal    R     90\n",
      "\n",
      "[90 rows x 8 columns]\n",
      "          Unnamed: 0                                                 x.mni  \\\n",
      "               count  mean       std   min    25%   50%    75%   max count   \n",
      "lobe                                                                         \n",
      "Frontal         28.0  14.5  8.225975   1.0   7.75  14.5  21.25  28.0  28.0   \n",
      "Insula           2.0  29.5  0.707107  29.0  29.25  29.5  29.75  30.0   2.0   \n",
      "Limbic          12.0  36.5  3.605551  31.0  33.75  36.5  39.25  42.0  12.0   \n",
      "Occipital       14.0  49.5  4.183300  43.0  46.25  49.5  52.75  56.0  14.0   \n",
      "Parietal        14.0  63.5  4.183300  57.0  60.25  63.5  66.75  70.0  14.0   \n",
      "SCGM             8.0  74.5  2.449490  71.0  72.75  74.5  76.25  78.0   8.0   \n",
      "Temporal        12.0  84.5  3.605551  79.0  81.75  84.5  87.25  90.0  12.0   \n",
      "\n",
      "                     ...    z.mni        index                               \\\n",
      "               mean  ...      75%    max count  mean       std   min    25%   \n",
      "lobe                 ...                                                      \n",
      "Frontal    1.723929  ...  34.3950  61.85  28.0  14.5  8.225975   1.0   7.75   \n",
      "Insula     1.945000  ...   3.1000   3.44   2.0  29.5  0.707107  29.0  29.25   \n",
      "Limbic     1.834167  ...  22.5700  41.57  12.0  36.5  3.605551  31.0  33.75   \n",
      "Occipital  2.532857  ...  25.2700  30.59  14.0  49.5  4.183300  43.0  46.25   \n",
      "Parietal   0.790714  ...  57.3575  70.07  14.0  63.5  4.183300  57.0  60.25   \n",
      "SCGM       1.606250  ...   8.3775   9.42   8.0  74.5  2.449490  71.0  72.75   \n",
      "Temporal   2.583333  ...   6.8825  10.41  12.0  84.5  3.605551  79.0  81.75   \n",
      "\n",
      "                              \n",
      "            50%    75%   max  \n",
      "lobe                          \n",
      "Frontal    14.5  21.25  28.0  \n",
      "Insula     29.5  29.75  30.0  \n",
      "Limbic     36.5  39.25  42.0  \n",
      "Occipital  49.5  52.75  56.0  \n",
      "Parietal   63.5  66.75  70.0  \n",
      "SCGM       74.5  76.25  78.0  \n",
      "Temporal   84.5  87.25  90.0  \n",
      "\n",
      "[7 rows x 40 columns]\n"
     ]
    }
   ],
   "source": [
    "df = pd.read_csv('atlas/aal90_data.csv')\n",
    "# lobes = df['lobe'].values\n",
    "# AllLobes = df['lobe'].unique()\n",
    "print(df)\n",
    "grouped3 = df.groupby(['lobe']).describe()\n",
    "print(grouped3)"
   ]
  }
 ],
 "metadata": {
  "kernelspec": {
   "display_name": "w",
   "language": "python",
   "name": "python3"
  },
  "language_info": {
   "codemirror_mode": {
    "name": "ipython",
    "version": 3
   },
   "file_extension": ".py",
   "mimetype": "text/x-python",
   "name": "python",
   "nbconvert_exporter": "python",
   "pygments_lexer": "ipython3",
   "version": "3.9.7"
  }
 },
 "nbformat": 4,
 "nbformat_minor": 2
}
